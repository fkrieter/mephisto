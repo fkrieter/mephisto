{
 "cells": [
  {
   "cell_type": "markdown",
   "metadata": {},
   "source": [
    "# Histo2D\n",
    "\n",
    "The **Histo2D** class provides the same features as **ROOT**'s **TH2D** class but with extended functionality and improved ease of use. So make sure to also consult the [ROOT documentation](https://root.cern.ch/doc/master/classTH2D.html).\n",
    "\n",
    "Again we start by creating a test sample that we can play with:"
   ]
  },
  {
   "cell_type": "code",
   "execution_count": null,
   "metadata": {
    "scrolled": true
   },
   "outputs": [],
   "source": [
    "import ROOT\n",
    "from mephisto import IOManager, Histo2D\n",
    "\n",
    "IOManager.CreateTestSample(\"testsample.root\", tree=\"TestTree\", nbranches=10, nevents=1e4)"
   ]
  },
  {
   "cell_type": "markdown",
   "metadata": {},
   "source": [
    "Now let's create a Histo1D, fill it with some dummy data and draw it to a canvas. You can use equidistant bins or define your own intervalls, you decide!"
   ]
  },
  {
   "cell_type": "code",
   "execution_count": null,
   "metadata": {},
   "outputs": [],
   "source": [
    "## equidistant bins:\n",
    "h = Histo2D(\"h\", \"MyScatterPlot\", 50, 0.0, 10.0, 50, 0.0, 10.0)\n",
    "\n",
    "## variable bins:\n",
    "# xbinlowedges = [0, 1, 2, 2.5, 3, 3.5, 4, 4.5, 5, 6, 7, 8, 10]\n",
    "# ybinlowedges = [0, 1, 2, 2.5, 3, 3.5, 4, 4.5, 5, 6, 7, 8, 10]\n",
    "# h = Histo2D(\"h\", \"MyHisto\", xbinlowedges, ybinlowedges)\n",
    "\n",
    "h.Fill(\"testsample.root\", tree=\"TestTree\", varexp=\"branch_6:branch_7\", cuts=[\"branch_6<8\"], weight=\"branch_10\")\n",
    "\n",
    "c = ROOT.TCanvas()\n",
    "c.Draw()\n",
    "h.Draw(\"COL\")\n"
   ]
  },
  {
   "cell_type": "markdown",
   "metadata": {},
   "source": [
    "Now let's use the ```Print``` function of Histo2D instead."
   ]
  },
  {
   "cell_type": "code",
   "execution_count": null,
   "metadata": {},
   "outputs": [],
   "source": [
    "try:\n",
    "    del c  # delete it so that Jupyter doesn't get confused...\n",
    "except NameError:\n",
    "    pass\n",
    "\n",
    "h.Print(\"myscatterplot.png\")\n",
    "\n",
    "# view in in Jupyter:\n",
    "from IPython.display import Image\n",
    "Image(filename='myscatterplot.png')"
   ]
  },
  {
   "cell_type": "markdown",
   "metadata": {},
   "source": [
    "That looks at bit better already. A color scale would be useful however. Well that's easy:"
   ]
  },
  {
   "cell_type": "code",
   "execution_count": null,
   "metadata": {},
   "outputs": [],
   "source": [
    "h.Print(\"myscatterplot.png\", drawoption=\"COLZ\")\n",
    "\n",
    "Image(filename='myscatterplot.png')"
   ]
  },
  {
   "cell_type": "markdown",
   "metadata": {},
   "source": [
    "It seems the labels of the z-axis (color scale) have not made it into the figure. We can increase the margin to the right of the pad with the ```rightmargin``` property. This is a property of the **Pad** class (since its parent **TPad** has a method called ```SetRightMargin```) but you can also access it via the Histo2D ```Print``` function:"
   ]
  },
  {
   "cell_type": "code",
   "execution_count": null,
   "metadata": {},
   "outputs": [],
   "source": [
    "h.Print(\"myscatterplot.png\", drawoption=\"COLZ\", rightmargin=0.14)\n",
    "\n",
    "Image(filename='myscatterplot.png')"
   ]
  },
  {
   "cell_type": "markdown",
   "metadata": {},
   "source": [
    "Lastly let's imagine we'd want to plot some measurement result as a function of two continuous parameters. The problem however is that we only have a few data points available, e.g.:"
   ]
  },
  {
   "cell_type": "code",
   "execution_count": null,
   "metadata": {},
   "outputs": [],
   "source": [
    "nbinsx, nbinsy = 100, 100\n",
    "xsparsity, ysparsity = 4, 4  # only one in four bins is filled\n",
    "\n",
    "norm = float(nbinsx ** 2 + nbinsy ** 2)\n",
    "\n",
    "g = Histo2D(\"grid\", \"MyGrid\", nbinsx, 0, nbinsx, nbinsy, 0, nbinsy)\n",
    "for x in range(nbinsx + 1):\n",
    "    for y in range(nbinsy + 1):\n",
    "        if x % xsparsity == 0 and y % ysparsity == 0:\n",
    "            g.Fill(x, y, ((x + 1) ** 2 + (y + 1) ** 2) / norm)\n",
    "\n",
    "g.Print(\"mygrid.png\", xtitle=\"x\", ytitle=\"y\", rightmargin=0.14)\n",
    "\n",
    "Image(filename='mygrid.png')\n",
    "\n",
    "#     h1.Interpolate()  # because TH2::Smooth sucks\n",
    "\n",
    "#     h1.Print(\n",
    "#         \"test_histo2d_1.png\",\n",
    "#         xtitle=\"X\",\n",
    "#         ytitle=\"Y\",\n",
    "#         xunits=\"k#AA\",\n",
    "#         yunits=\"#mub^{-2}\",\n",
    "#         rightmargin=0.15,\n",
    "#         contour=[0.2, 0.5, 0.6],\n",
    "#     )"
   ]
  },
  {
   "cell_type": "markdown",
   "metadata": {},
   "source": [
    "We'd like to at least get an estimate for the values in between, i.e. all the white space. You could use TH2D's ```Smooth``` method..."
   ]
  },
  {
   "cell_type": "code",
   "execution_count": null,
   "metadata": {},
   "outputs": [],
   "source": [
    "g.Smooth()\n",
    "g.Print(\"mygrid.png\", xtitle=\"x\", ytitle=\"y\", rightmargin=0.14)\n",
    "\n",
    "Image(filename='mygrid.png')"
   ]
  },
  {
   "cell_type": "markdown",
   "metadata": {},
   "source": [
    "...but yeah, it's probably not really what you were looking for. Instead use Histo2D's ```Interpolate``` method, which uses [scipy](https://www.scipy.org/) to get the job done:"
   ]
  },
  {
   "cell_type": "code",
   "execution_count": null,
   "metadata": {},
   "outputs": [],
   "source": [
    "# reset it initial conditions:\n",
    "g.Reset()\n",
    "for x in range(nbinsx + 1):\n",
    "    for y in range(nbinsy + 1):\n",
    "        if x % xsparsity == 0 and y % ysparsity == 0:\n",
    "            g.Fill(x, y, ((x + 1) ** 2 + (y + 1) ** 2) / norm)\n",
    "\n",
    "g.Interpolate()\n",
    "g.Print(\"mygrid.png\", xtitle=\"x\", ytitle=\"y\", rightmargin=0.14)\n",
    "\n",
    "Image(filename='mygrid.png')"
   ]
  },
  {
   "cell_type": "markdown",
   "metadata": {},
   "source": [
    "That's much nicer, right!? Lastly, for adding countour lines for example at 0.2, 0.5 and 0.6 there's a method called ```SetContour``` and thus a property called ```contour```."
   ]
  },
  {
   "cell_type": "code",
   "execution_count": null,
   "metadata": {},
   "outputs": [],
   "source": [
    "g.Print(\"mygrid.png\", xtitle=\"x\", ytitle=\"y\", rightmargin=0.14, contour=[0.2, 0.5, 0.6])\n",
    "\n",
    "Image(filename='mygrid.png')"
   ]
  },
  {
   "cell_type": "markdown",
   "metadata": {},
   "source": [
    "If you'd like to change the attributes of the contour lines you can add any Histo2D property with the prefix ```contour``` as a keyword argument.\n",
    "\n",
    "Alright, that's it. Thanks for taking the tutorial!"
   ]
  }
 ],
 "metadata": {
  "anaconda-cloud": {},
  "kernelspec": {
   "display_name": "Python 2",
   "language": "python",
   "name": "python2"
  },
  "language_info": {
   "codemirror_mode": {
    "name": "ipython",
    "version": 2
   },
   "file_extension": ".py",
   "mimetype": "text/x-python",
   "name": "python",
   "nbconvert_exporter": "python",
   "pygments_lexer": "ipython2",
   "version": "2.7.10"
  },
  "nav_menu": {},
  "toc": {
   "navigate_menu": true,
   "number_sections": false,
   "sideBar": true,
   "threshold": 6,
   "toc_cell": false,
   "toc_section_display": "block",
   "toc_window_display": false
  }
 },
 "nbformat": 4,
 "nbformat_minor": 2
}
