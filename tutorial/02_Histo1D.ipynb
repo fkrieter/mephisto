{
 "cells": [
  {
   "cell_type": "markdown",
   "metadata": {},
   "source": [
    "# Histo1D\n",
    "\n",
    "The **Histo1D** class provides the same features as **ROOT**'s **TH1D** class but with extended functionality and improved ease of use. So make sure to also consult the [ROOT documentation](https://root.cern.ch/doc/master/classTH1D.html).\n",
    "\n",
    "Again we start by creating a test sample that we can play with:"
   ]
  },
  {
   "cell_type": "code",
   "execution_count": null,
   "metadata": {
    "scrolled": true
   },
   "outputs": [],
   "source": [
    "import ROOT\n",
    "from mephisto import IOManager, Histo1D\n",
    "\n",
    "IOManager.CreateTestSample(\"testsample.root\", tree=\"TestTree\", nbranches=10, nevents=1e4)"
   ]
  },
  {
   "cell_type": "markdown",
   "metadata": {},
   "source": [
    "Now let's create a Histo1D, fill it with some dummy data and draw it to a canvas. You can use equidistant bins or define your own intervalls, you decide!"
   ]
  },
  {
   "cell_type": "code",
   "execution_count": null,
   "metadata": {},
   "outputs": [],
   "source": [
    "## equidistant bins:\n",
    "h = Histo1D(\"h\", \"MyHisto\", 50, 0.0, 10.0)\n",
    "\n",
    "## variable bins:\n",
    "# binlowedges = [0, 1, 2, 2.5, 3, 3.5, 4, 4.5, 5, 6, 7, 8, 10]\n",
    "# h = Histo1D(\"h\", \"MyHisto\", binlowedges)\n",
    "\n",
    "h.Fill(\"testsample.root\", tree=\"TestTree\", varexp=\"branch_5\", cuts=[\"branch_6>2\", \"branch_7<8\"], weight=\"branch_10\")\n",
    "\n",
    "c = ROOT.TCanvas()\n",
    "c.Draw()\n",
    "h.Draw(\"HIST\")\n"
   ]
  },
  {
   "cell_type": "markdown",
   "metadata": {},
   "source": [
    "The ```Fill``` method uses the ```FillHistogram``` method of the **IOManager**. If you're going to fill multiple histograms from the same TTree, consider using the **Factory** subclass of the IOManager instead. If the last sentence didn't make any sense to you, have a look at IOManager tutorial!\n",
    "\n",
    "The above plot looks quite ugly. There is no axis title, legend or errorband. Instead of drawing it to a canvas, let's use Histo1D's ```Print``` method to create a PNG file of the plot."
   ]
  },
  {
   "cell_type": "code",
   "execution_count": null,
   "metadata": {},
   "outputs": [],
   "source": [
    "try:\n",
    "    del c  # delete it so that Jupyter doesn't get confused...\n",
    "except NameError:\n",
    "    pass\n",
    "\n",
    "h.Print(\"myhisto.png\")\n",
    "\n",
    "# view in in Jupyter:\n",
    "from IPython.display import Image\n",
    "Image(filename='myhisto.png')"
   ]
  },
  {
   "cell_type": "markdown",
   "metadata": {},
   "source": [
    "That looks at lot better already! Note that the y-axis is plotted logarithmically by default.\n",
    "\n",
    "So far so good, but we could still tweak it a bit:"
   ]
  },
  {
   "cell_type": "code",
   "execution_count": null,
   "metadata": {},
   "outputs": [],
   "source": [
    "h.Print(\"myhisto.png\",\n",
    "        logy=False,\n",
    "        linewidth=3,\n",
    "        drawerrorband=True,\n",
    "        errorbanddrawoption=\"E2\",\n",
    "        errorbandfillstyle=3151,\n",
    "        xtitle=\"m_{T}(#mu, E_{T}^{miss})\",\n",
    "        xunits=\"TeV\")\n",
    "\n",
    "Image(filename='myhisto.png')"
   ]
  },
  {
   "cell_type": "markdown",
   "metadata": {},
   "source": [
    "We have now set the y-axis to a linear scale, increased the line thickness of the histogram, added an errorband (computed by ```TH1::Sumw2```) and added custom x-axis title and associated units. It would of course be possible to customize the plot even further: You can give ```Print``` or the Histo1D constructor itself any **property** associated to a Histo1D.\n",
    "\n",
    "### What are properties?\n",
    "\n",
    "The short answer is, (almost) any attribute of a class for which there is a setter method. For example, a Histo1D object has a setter called ```SetLineWidth``` that takes one integer as an argument. Thus ```linewidth``` is a *property* of a Histo1D object and you can define it either by using the setter method or give it as a keyword argument to the class constructor, the ```Print``` method or the ```DeclareProperty```/```DeclareProperties``` method. If you'd like to change a properties of the errorband associated to the histogram you simply need to add the prefix ```errorband``` to the name of the property, like we did by ```errorbandfillstyle=3151``` above. The same hold for properties of the associated Legend (inherits from TLegend): Just add the prefix ```legend``` in fron of the property name!\n",
    "\n",
    "If a setter required more than one argument, like ```SetFillColorAlpha``` for example, the value associated to the given keyword argument must be a ```list``` or ```tuple```. Color values can be either integers (i.e. also of the form ```ROOT.kColor```) or strings containing a hex-code.\n",
    "\n",
    "There are some setters, like ```SetBinContent``` for example, that are not associated with a property for safety reasons. The ```name``` property also does not exist in order to keep track of the histogram that are created by the user. Since the methods like ```SetXTitle``` exist for both in the Histo1D and in the Pad (inherits from TPad) class, the associated properties have been made exclusive for Pad objects. You can steer it however via the ```Print``` method which propagates it to the Pad in which the histogram is drawn.\n",
    "\n",
    "With this fresh knowlegde about Histo1D properties, let's create a dictionary with all the properties we'd like to apply to our histogram:"
   ]
  },
  {
   "cell_type": "code",
   "execution_count": null,
   "metadata": {},
   "outputs": [],
   "source": [
    "props = {\n",
    "    \"drawoption\":           \"HIST\",\n",
    "    \"linestyle\":            1,\n",
    "    \"linewidth\":            1,\n",
    "    \"linecolor\":            \"#000000\",\n",
    "    \"linealpha\":            1.0,\n",
    "    \"fillstyle\":            1001,\n",
    "    \"fillcolor\":            \"#2b2bff\",\n",
    "    \"fillalpha\":            1.0,\n",
    "    \"drawerrorband\":        True,\n",
    "    \"errorbanddrawoption\":  \"E2\",\n",
    "    \"errorbandfillstyle\":   3151,\n",
    "    \"errorbandfillalpha\":   1.0,\n",
    "    \"legenddrawoption\":     \"F\"\n",
    "}\n",
    "\n",
    "h.Print(\"myhisto.png\", **props)\n",
    "\n",
    "Image(filename='myhisto.png')"
   ]
  },
  {
   "cell_type": "markdown",
   "metadata": {},
   "source": [
    "As this style is quite common for histograms representing a *background* process, there is already a ```template``` for it. If you whish to use it and, for example, just want to change the fill color to green, it's as easy as that:"
   ]
  },
  {
   "cell_type": "code",
   "execution_count": null,
   "metadata": {},
   "outputs": [],
   "source": [
    "h.Print(\"myhisto.png\", template=\"background\", fillcolor=ROOT.kGreen)\n",
    "\n",
    "Image(filename='myhisto.png')"
   ]
  },
  {
   "cell_type": "markdown",
   "metadata": {},
   "source": [
    "You can find other template for Histo1D object and other Mephisto classes in the ```mephisto/templates``` folder. If have a set of properties you use regularly, consider adding it to the respective JSON file!\n",
    "\n",
    "Finally, if you want to save the histogram into a directory which does not exist yet, just add the ```mkdir=True``` flag and Mephisto will take care of it."
   ]
  },
  {
   "cell_type": "code",
   "execution_count": null,
   "metadata": {},
   "outputs": [],
   "source": [
    "h.Print(\"plots/myhisto.png\", mkdir=True)"
   ]
  },
  {
   "cell_type": "markdown",
   "metadata": {},
   "source": [
    "That's it! Now you know the basics of Histo1Ds."
   ]
  }
 ],
 "metadata": {
  "anaconda-cloud": {},
  "kernelspec": {
   "display_name": "Python 2",
   "language": "python",
   "name": "python2"
  },
  "language_info": {
   "codemirror_mode": {
    "name": "ipython",
    "version": 2
   },
   "file_extension": ".py",
   "mimetype": "text/x-python",
   "name": "python",
   "nbconvert_exporter": "python",
   "pygments_lexer": "ipython2",
   "version": "2.7.10"
  },
  "nav_menu": {},
  "toc": {
   "navigate_menu": true,
   "number_sections": false,
   "sideBar": true,
   "threshold": 6,
   "toc_cell": false,
   "toc_section_display": "block",
   "toc_window_display": false
  }
 },
 "nbformat": 4,
 "nbformat_minor": 2
}
