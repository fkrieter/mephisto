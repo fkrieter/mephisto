{
 "cells": [
  {
   "cell_type": "markdown",
   "metadata": {},
   "source": [
    "# IOManager\n",
    "\n",
    "The **IOManager** class provides several easy-to-use functions for reading and writing ROOT objects.\n",
    "First, let's create a **TFile** called ```testsample.root``` with a **TTree** called ```TestTree``` containg some dummy data for 10 branches with 10,000 events."
   ]
  },
  {
   "cell_type": "code",
   "execution_count": null,
   "metadata": {
    "scrolled": true
   },
   "outputs": [],
   "source": [
    "import ROOT\n",
    "from mephisto import IOManager\n",
    "\n",
    "IOManager.CreateTestSample(\"testsample.root\", tree=\"TestTree\", nbranches=10, nevents=1e4)"
   ]
  },
  {
   "cell_type": "markdown",
   "metadata": {},
   "source": [
    "The new ROOT file should live in your current working directory:"
   ]
  },
  {
   "cell_type": "code",
   "execution_count": null,
   "metadata": {},
   "outputs": [],
   "source": [
    "%ls -l"
   ]
  },
  {
   "cell_type": "markdown",
   "metadata": {},
   "source": [
    "The branches have the the invenvite names ```branch_X``` where ```X``` ranges from 1 to 10. The events sampled for each branch follows a $\\chi^2$-distribution with a mean around ```X```.\n",
    "\n",
    "Let's fill some histograms:\n",
    "* **h1** - 1D histogram showing the raw distribution of ```branch_3```\n",
    "* **h2** - 1D histogram showing the distribution of ```branch_3``` for events passing the ```branch_6>4 && branch_7<9``` selection and weighted by an per-event-weight given by ```branch_10```\n",
    "* **h3** - 2D histogram plotting the distribution of ```branch_3``` on the x-axis versus the ```branch_4``` on the y-axis"
   ]
  },
  {
   "cell_type": "code",
   "execution_count": null,
   "metadata": {},
   "outputs": [],
   "source": [
    "h1 = ROOT.TH1D(\"h1\", \"\", 100, 0.0, 10.0)\n",
    "h2 = ROOT.TH1D(\"h2\", \"\", 100, 0.0, 10.0)\n",
    "h3 = ROOT.TH2D(\"h3\", \"\", 100, 0.0, 10.0, 100, 0.0, 10.0)\n",
    "\n",
    "h1.Sumw2()\n",
    "h2.Sumw2()\n",
    "h3.Sumw2()\n",
    "\n",
    "IOManager.FillHistogram(h1, \"testsample.root\", tree=\"TestTree\", varexp=\"branch_3\")\n",
    "IOManager.FillHistogram(h2, \"testsample.root\", tree=\"TestTree\", varexp=\"branch_3\",\n",
    "                        cuts=[\"branch_6>4\", \"branch_7<9\"], weight=\"branch_10\")\n",
    "IOManager.FillHistogram(h3, \"testsample.root\", tree=\"TestTree\", varexp=\"branch_3:branch_4\")"
   ]
  },
  {
   "cell_type": "markdown",
   "metadata": {},
   "source": [
    "And now let's look at them, by dooing it the (good old) ROOT way:"
   ]
  },
  {
   "cell_type": "code",
   "execution_count": null,
   "metadata": {},
   "outputs": [],
   "source": [
    "c = ROOT.TCanvas()\n",
    "c.Draw()\n",
    "h1.Draw(\"HIST\")"
   ]
  },
  {
   "cell_type": "code",
   "execution_count": null,
   "metadata": {},
   "outputs": [],
   "source": [
    "c.Draw()\n",
    "h2.Draw(\"HIST\")"
   ]
  },
  {
   "cell_type": "code",
   "execution_count": null,
   "metadata": {},
   "outputs": [],
   "source": [
    "c.Draw()\n",
    "h3.Draw(\"COL\")"
   ]
  },
  {
   "cell_type": "markdown",
   "metadata": {},
   "source": [
    "You can also add the projection of the ```TestTree``` to a existing histogram without overwriting it using the ```append``` flag:"
   ]
  },
  {
   "cell_type": "code",
   "execution_count": null,
   "metadata": {},
   "outputs": [],
   "source": [
    "print \"h1 nentries:\".ljust(15), h1.GetEntries()\n",
    "print \"h2 nentries:\".ljust(15), h2.GetEntries()\n",
    "\n",
    "IOManager.FillHistogram(h2, \"testsample.root\", tree=\"TestTree\", varexp=\"branch_3\", append=True)\n",
    "\n",
    "print \"\".ljust(23, \"-\"), \"\\nsum:\".ljust(15), h2.GetEntries()"
   ]
  },
  {
   "cell_type": "markdown",
   "metadata": {},
   "source": [
    "Another useful feature is the **Factory** subclass of the IOManager. It allows filling multiple histograms from one TTree in one go!\n",
    "\n",
    "Setting it up is easy:"
   ]
  },
  {
   "cell_type": "code",
   "execution_count": null,
   "metadata": {},
   "outputs": [],
   "source": [
    "histos = {}  # dictionary of TH1Ds\n",
    "\n",
    "factory = IOManager.Factory(\"testsample.root\", \"TestTree\")\n",
    "\n",
    "for i in range(1, 11):\n",
    "    varexp = \"branch_{}\".format(i)\n",
    "    for j in range(1, 11):\n",
    "        weight = \"branch_{}\".format(j)\n",
    "        for k in range(1, 11):\n",
    "            cuts = [\"branch_{}>{}\".format(k, float(i)/k)]\n",
    "            histos[i, j, k] = ROOT.TH1D(\"{}_{}_{}\".format(i, j, k), \"\", 100, 0.0, 10.0)\n",
    "            factory.Register(histos[i, j, k], varexp=varexp, cuts=cuts, weight=weight)\n",
    "            \n",
    "factory.Run()\n",
    "\n",
    "print \"i\".ljust(5), \"j\".ljust(5), \"k\".ljust(5), \"nentries\\n\", \"\".ljust(26, \"-\") \n",
    "for (i, j, k), histo in histos.items():\n",
    "    print str(i).ljust(5), str(j).ljust(5), str(k).ljust(5), histo.GetEntries()"
   ]
  },
  {
   "cell_type": "markdown",
   "metadata": {},
   "source": [
    "Now that you know the basic features of the IOManager check out the other notebooks, too!"
   ]
  }
 ],
 "metadata": {
  "anaconda-cloud": {},
  "kernelspec": {
   "display_name": "Python 2",
   "language": "python",
   "name": "python2"
  },
  "language_info": {
   "codemirror_mode": {
    "name": "ipython",
    "version": 2
   },
   "file_extension": ".py",
   "mimetype": "text/x-python",
   "name": "python",
   "nbconvert_exporter": "python",
   "pygments_lexer": "ipython2",
   "version": "2.7.10"
  },
  "nav_menu": {},
  "toc": {
   "navigate_menu": true,
   "number_sections": false,
   "sideBar": true,
   "threshold": 6,
   "toc_cell": false,
   "toc_section_display": "block",
   "toc_window_display": false
  }
 },
 "nbformat": 4,
 "nbformat_minor": 2
}
