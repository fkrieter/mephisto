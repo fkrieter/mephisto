{
 "cells": [
  {
   "cell_type": "markdown",
   "metadata": {},
   "source": [
    "# N1Plotter\n",
    "\n",
    "The **N1Plotter** is not derived directly from any **ROOT** class. Instead it provides a convenient possibility to create so-called *N-1* plots for cut-based sensitivity sudies.\n",
    "\n",
    "Again we start by creating a test sample that we can play with:"
   ]
  },
  {
   "cell_type": "code",
   "execution_count": null,
   "metadata": {
    "scrolled": true
   },
   "outputs": [],
   "source": [
    "import ROOT\n",
    "from mephisto import IOManager, N1Plotter\n",
    "\n",
    "IOManager.CreateTestSample(\"testsample.root\", tree=\"TestTree\", nbranches=10, nevents=1e4)"
   ]
  },
  {
   "cell_type": "markdown",
   "metadata": {},
   "source": [
    "Again we define the input and style of our dummy background and signal histograms:"
   ]
  },
  {
   "cell_type": "code",
   "execution_count": null,
   "metadata": {},
   "outputs": [],
   "source": [
    "histoconfig = {\n",
    "    # background histograms:\n",
    "    \"bkg1\": {\n",
    "        \"weight\": \"0.6*branch_10\",\n",
    "        \"template\": \"background\",\n",
    "        \"fillcolor\": \"#6baff4\",\n",
    "        \"title\": \"ttbar\"\n",
    "    },\n",
    "    \"bkg2\": {\n",
    "        \"weight\": \"0.5*branch_10\",\n",
    "        \"template\": \"background\",\n",
    "        \"fillcolor\": \"#fff266\",\n",
    "        \"title\": \"W+jets\"\n",
    "    },\n",
    "    \"bkg3\": {\n",
    "        \"weight\": \"0.4*branch_10\",\n",
    "        \"template\": \"background\",\n",
    "        \"fillcolor\": \"#98ff79\",\n",
    "        \"title\": \"Single top\"\n",
    "    },\n",
    "    \"bkg4\": {\n",
    "        \"weight\": \"0.3*branch_10\",\n",
    "        \"template\": \"background\",\n",
    "        \"fillcolor\": \"#D182FF\",\n",
    "        \"title\": \"Diboson\"\n",
    "    },\n",
    "    \"bkg5\": {\n",
    "        \"weight\": \"0.2*branch_10\",\n",
    "        \"template\": \"background\",\n",
    "        \"fillcolor\": \"#ffc25e\",\n",
    "        \"title\": \"Z+jets\"\n",
    "    },\n",
    "    # signal histograms:\n",
    "    \"sig1\": {\n",
    "        \"weight\": \"2.6*branch_8\",\n",
    "        \"template\": \"signal\",\n",
    "        \"linecolor\": ROOT.kRed,\n",
    "        \"title\": \"Signal 1\"\n",
    "    },\n",
    "    \"sig2\": {\n",
    "        \"weight\": \"2.5*branch_10\",\n",
    "        \"template\": \"signal\",\n",
    "        \"linecolor\": ROOT.kBlue,\n",
    "        \"title\": \"Signal 2\"\n",
    "    },\n",
    "}"
   ]
  },
  {
   "cell_type": "markdown",
   "metadata": {},
   "source": [
    "Now to the interesting part: The N1Plotter will automatically create histograms for any cut expression in a list of cut expressions. Thus for each cut expression one also has to define an associated binning."
   ]
  },
  {
   "cell_type": "code",
   "execution_count": null,
   "metadata": {},
   "outputs": [],
   "source": [
    "# cuts can be defined as a list or a '&&'-separated string\n",
    "# basic arithmetic operations are supported as well\n",
    "mycuts = [\n",
    "    \"branch_4>1.5\",\n",
    "    \"branch_1+branch_5<3.75\",\n",
    "    \"(branch_6>=4.5)&&(abs(branch_7)<=9.5)\",\n",
    "]\n",
    "\n",
    "mybinnings = {\n",
    "    \"branch_4\": [20, 0.0, 10.0],  # fixed bin width\n",
    "    \"branch_1+branch_5\": [20, 0.0, 10.0],\n",
    "    \"branch_6\": [\n",
    "        [i * 0.25 for i in range(40)] + [10, 11, 12, 13, 14, 15, 17.5, 20]\n",
    "    ],  # variable bin width\n",
    "    \"abs(branch_7)\": [10, 0.0, 10.0],\n",
    "}"
   ]
  },
  {
   "cell_type": "markdown",
   "metadata": {},
   "source": [
    "Next we create a instance of the N1Plotter and register our signal and background histograms to it! Note, that you need to specify if the registered histogram is of type ``signal`` or ``background`` (i.e. we can just use the name of the styling template from entries of the dictionary we defined above).\n",
    "\n",
    "By default the [Asimov significance](http://www.pp.rhul.ac.uk/~cowan/stat/medsig/medsigNote.pdf) $Z_{A}$ is used as a sensitivity measure and the value is calculated for each bin via the **SensitivityScan** class. As it's a property of the N1Plotter class, you could also define a ``sensitivitymeasure`` yourself in the initialization step.\n",
    "\n",
    "Finally you can save all *N-1* plots to the current directory with the ``Print`` method."
   ]
  },
  {
   "cell_type": "code",
   "execution_count": null,
   "metadata": {},
   "outputs": [],
   "source": [
    "n1plotter = N1Plotter(\n",
    "    preselection=[\"branch_8>1.0\"], # optional, no binning definitions required\n",
    "    cuts=mycuts,\n",
    "    binnings=mybinnings\n",
    ")\n",
    "\n",
    "for process, config in histoconfig.items():\n",
    "    n1plotter.Register(\"testsample.root\", tree=\"TestTree\", type=config[\"template\"], **config)\n",
    "\n",
    "n1plotter.Print(\".\", logy=False, mkdir=True)"
   ]
  },
  {
   "cell_type": "markdown",
   "metadata": {},
   "source": [
    "Let's see what we've got:"
   ]
  },
  {
   "cell_type": "code",
   "execution_count": null,
   "metadata": {},
   "outputs": [],
   "source": [
    "!pdfunite N-1_*.pdf plots.pdf\n",
    "\n",
    "from IPython.display import IFrame, display\n",
    "display(IFrame(\"plots.pdf\", width=600, height=450))  # you might need to use Firefox for this..."
   ]
  },
  {
   "cell_type": "markdown",
   "metadata": {},
   "source": [
    "That's all there is for now. Bye!"
   ]
  }
 ],
 "metadata": {
  "anaconda-cloud": {},
  "kernelspec": {
   "display_name": "Python 2",
   "language": "python",
   "name": "python2"
  },
  "language_info": {
   "codemirror_mode": {
    "name": "ipython",
    "version": 2
   },
   "file_extension": ".py",
   "mimetype": "text/x-python",
   "name": "python",
   "nbconvert_exporter": "python",
   "pygments_lexer": "ipython2",
   "version": "2.7.17"
  },
  "nav_menu": {},
  "toc": {
   "navigate_menu": true,
   "number_sections": false,
   "sideBar": true,
   "threshold": 6,
   "toc_cell": false,
   "toc_section_display": "block",
   "toc_window_display": false
  }
 },
 "nbformat": 4,
 "nbformat_minor": 2
}
