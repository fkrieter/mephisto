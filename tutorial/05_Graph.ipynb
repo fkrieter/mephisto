{
 "cells": [
  {
   "cell_type": "markdown",
   "metadata": {},
   "source": [
    "# Graph\n",
    "\n",
    "The **Graph** class provides the same features as **ROOT**'s **TGraphAsymmErrors** class but with extended functionality and improved ease of use. So make sure to also consult the [ROOT documentation](https://root.cern.ch/doc/master/classTGraphAsymmErrors.html).\n",
    "\n",
    "Plotting a curve of of several x- and y-values is easy:"
   ]
  },
  {
   "cell_type": "code",
   "execution_count": null,
   "metadata": {
    "scrolled": true
   },
   "outputs": [],
   "source": [
    "import ROOT\n",
    "from mephisto import Graph, Histo2D\n",
    "\n",
    "g = Graph(\n",
    "    \"MyGraph\",\n",
    "    [1.0, 2.0, 2.5, 3.0],\n",
    "    [3.0, 2.5, 1.3, 1.0],\n",
    ")\n",
    "g.Print(\"mygraph.png\")\n",
    "\n",
    "# view in in Jupyter:\n",
    "from IPython.display import Image\n",
    "Image(filename='mygraph.png')"
   ]
  },
  {
   "cell_type": "markdown",
   "metadata": {},
   "source": [
    "Adding uncertainties, e.g. to the y-values, is done by using a tuple instead of just a number for the nominal value:\n",
    "A tuple with two entries is interpreted (in order) as the nominal value and its associated symmetric uncertainty, a tuple with three entries is interpreted (in order) as the nominal value and its up- and down-uncertainty.\n",
    "\n",
    "For example:"
   ]
  },
  {
   "cell_type": "code",
   "execution_count": null,
   "metadata": {},
   "outputs": [],
   "source": [
    "g = Graph(\n",
    "    \"MyGraph\",\n",
    "    [1.0, 2.0, 2.5, 3.0],\n",
    "    [(3.0, 0.1, 0.8), (2.5, 0.7, 0.3), (1.3, 1.0, 0.4), (1.0, 0.5)],\n",
    "    linecolor=ROOT.kBlue,\n",
    "    fillcoloralpha=(ROOT.kGreen, 0.5),\n",
    ")\n",
    "g.Print(\"mygraph.png\", xtitle=\"x-value\", ytitle=\"y-value\")\n",
    "\n",
    "Image(filename='mygraph.png')"
   ]
  },
  {
   "cell_type": "markdown",
   "metadata": {},
   "source": [
    "As usual, the properties of the **Graph** can be set and adjusted by giving them as keyword arguments to the constructor or the ``Print`` function.\n",
    "\n",
    "**Graph**s can also be directly extracted from contours of **Histo2D**s. To demonstrate this we reuse one of the (interpolated) histogram we created in the previous tutorial:"
   ]
  },
  {
   "cell_type": "code",
   "execution_count": null,
   "metadata": {},
   "outputs": [],
   "source": [
    "nbinsx, nbinsy = 100, 100\n",
    "xsparsity, ysparsity = 4, 4  # only one in four bins is filled\n",
    "\n",
    "norm = float(nbinsx ** 2 + nbinsy ** 2)\n",
    "\n",
    "h = Histo2D(\"grid\", \"MyGrid\", nbinsx, 0, nbinsx, nbinsy, 0, nbinsy)\n",
    "for x in range(nbinsx + 1):\n",
    "    for y in range(nbinsy + 1):\n",
    "        if x % xsparsity == 0 and y % ysparsity == 0:\n",
    "            h.Fill(x, y, ((x + 1) ** 2 + (y + 1) ** 2) / norm)\n",
    "\n",
    "h.Interpolate()"
   ]
  },
  {
   "cell_type": "markdown",
   "metadata": {},
   "source": [
    "For extracting the **ROOT.TGraph** for the ``0.3`` contour and subsequently transforming it into a convenient **Graph** object, you can do something like this:"
   ]
  },
  {
   "cell_type": "code",
   "execution_count": null,
   "metadata": {},
   "outputs": [],
   "source": [
    "h.SetContour(0.3)\n",
    "d = h.RetrieveContourGraphDict()\n",
    "\n",
    "print(d)\n",
    "\n",
    "c = Graph(\"MyContour\", d[0.3][0])\n",
    "c.Print(\"mycontour.png\")\n",
    "\n",
    "Image(filename='mycontour.png')"
   ]
  },
  {
   "cell_type": "markdown",
   "metadata": {},
   "source": [
    "That should cover the basics on how to use the **Graph** class. Have fun!"
   ]
  }
 ],
 "metadata": {
  "anaconda-cloud": {},
  "kernelspec": {
   "display_name": "Python 2",
   "language": "python",
   "name": "python2"
  },
  "language_info": {
   "codemirror_mode": {
    "name": "ipython",
    "version": 2
   },
   "file_extension": ".py",
   "mimetype": "text/x-python",
   "name": "python",
   "nbconvert_exporter": "python",
   "pygments_lexer": "ipython2",
   "version": "2.7.16"
  },
  "nav_menu": {},
  "toc": {
   "navigate_menu": true,
   "number_sections": false,
   "sideBar": true,
   "threshold": 6,
   "toc_cell": false,
   "toc_section_display": "block",
   "toc_window_display": false
  }
 },
 "nbformat": 4,
 "nbformat_minor": 2
}
