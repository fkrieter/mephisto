{
 "cells": [
  {
   "cell_type": "markdown",
   "metadata": {},
   "source": [
    "# Stack\n",
    "\n",
    "The **Stack** class provides the same features as **ROOT**'s **THStack** class but with extended functionality and improved ease of use. So make sure to also consult the [ROOT documentation](https://root.cern.ch/doc/master/classTHStack.html).\n",
    "\n",
    "Again we start by creating a test sample that we can play with:"
   ]
  },
  {
   "cell_type": "code",
   "execution_count": null,
   "metadata": {
    "scrolled": true
   },
   "outputs": [],
   "source": [
    "import ROOT\n",
    "from mephisto import IOManager, Histo1D, Stack\n",
    "\n",
    "IOManager.CreateTestSample(\"testsample.root\", tree=\"TestTree\", nbranches=10, nevents=1e4)"
   ]
  },
  {
   "cell_type": "markdown",
   "metadata": {},
   "source": [
    "Now let's define some histograms that we can put into our Stack. The most likely for Stacks use cases are probably data vs. background comparison and background vs. signal comparison plots.\n",
    "\n",
    "One way we could start is by defining the properties of these histograms and how to fill them with out dummy data. If you already took the IOManager and Histo1D tutorial the following will already look familiar to you:"
   ]
  },
  {
   "cell_type": "code",
   "execution_count": null,
   "metadata": {},
   "outputs": [],
   "source": [
    "histoconfig = {\n",
    "    # background histograms:\n",
    "    \"bkg1\": {\n",
    "        \"fill\":  dict(varexp=\"branch_1\", weight=\"0.6*branch_10\"),\n",
    "        \"style\": dict(template=\"background\", fillcolor=\"#6baff4\", title=\"ttbar\")\n",
    "    },\n",
    "    \"bkg2\": {\n",
    "        \"fill\":  dict(varexp=\"branch_2\", weight=\"0.5*branch_10\"),\n",
    "        \"style\": dict(template=\"background\", fillcolor=\"#fff266\", title=\"W+jets\")\n",
    "    },\n",
    "    \"bkg3\": {\n",
    "        \"fill\":  dict(varexp=\"branch_3\", weight=\"0.4*branch_10\"),\n",
    "        \"style\": dict(template=\"background\", fillcolor=\"#98ff79\", title=\"Single top\")\n",
    "    },\n",
    "    \"bkg4\": {\n",
    "        \"fill\":  dict(varexp=\"branch_4\", weight=\"0.3*branch_10\"),\n",
    "        \"style\": dict(template=\"background\", fillcolor=\"#D182FF\", title=\"Diboson\")\n",
    "    },\n",
    "    \"bkg5\": {\n",
    "        \"fill\":  dict(varexp=\"branch_5\", weight=\"0.2*branch_10\"),\n",
    "        \"style\": dict(template=\"background\", fillcolor=\"#ffc25e\", title=\"Z+jets\")\n",
    "    },\n",
    "    # signal histograms:\n",
    "    \"sig1\": {\n",
    "        \"fill\":  dict(varexp=\"branch_6\", weight=\"0.5*branch_10\"),\n",
    "        \"style\": dict(template=\"signal\", linecolor=ROOT.kRed, title=\"Signal 1\")\n",
    "    },\n",
    "    \"sig2\": {\n",
    "        \"fill\":  dict(varexp=\"branch_7\", weight=\"0.4*branch_10\"),\n",
    "        \"style\": dict(template=\"signal\", linecolor=ROOT.kBlue, title=\"Signal 2\")\n",
    "    },\n",
    "    # data histogram:\n",
    "    \"data\": {\n",
    "        \"style\": dict(template=\"data\", title=\"Data\")\n",
    "    }\n",
    "}"
   ]
  },
  {
   "cell_type": "markdown",
   "metadata": {},
   "source": [
    "Now let's create a few Histo1Ds and fill them with some dummy data:"
   ]
  },
  {
   "cell_type": "code",
   "execution_count": null,
   "metadata": {},
   "outputs": [],
   "source": [
    "h = {}  # dictionary of histograms\n",
    "binning = (25, 0.0, 10.0)\n",
    "\n",
    "h[\"data\"] = Histo1D(\"data\", \"\", *binning)\n",
    "for process, config in histoconfig.items():\n",
    "    if process == \"data\":\n",
    "        continue\n",
    "    h[process] = Histo1D(process, \"\", *binning)\n",
    "    h[process].Fill(\"testsample.root\", tree=\"TestTree\", **config[\"fill\"])\n",
    "    if process.startswith(\"bkg\"):\n",
    "        h[\"data\"].Fill(\"testsample.root\", tree=\"TestTree\", append=True, **config[\"fill\"])\n",
    "        \n",
    "# right now the data histogram is identical to the sum of all backgrounds,\n",
    "# so let's add some variations to it to make it look more 'real':\n",
    "import random\n",
    "for bn in range(1, h[\"data\"].GetNbinsX() + 1):\n",
    "    h[\"data\"].SetBinContent(bn, random.uniform(0.8, 1.2) * h[\"data\"].GetBinContent(bn))\n",
    "    h[\"data\"].SetBinError(bn, random.uniform(1, 5) * h[\"data\"].GetBinError(bn))"
   ]
  },
  {
   "cell_type": "markdown",
   "metadata": {},
   "source": [
    "Next we create a Stack, register our histograms and draw it!"
   ]
  },
  {
   "cell_type": "code",
   "execution_count": null,
   "metadata": {},
   "outputs": [],
   "source": [
    "s = Stack()\n",
    "for process, histo in h.items():\n",
    "    stackme = process.startswith(\"bkg\")  # only stack background histograms on top one another\n",
    "    s.Register(histo, stack=stackme, **histoconfig[process][\"style\"])\n",
    "s.Print(\"mystack.png\", ymin=100, xtitle=\"p_{T}(#mu)\", xunits=\"GeV\")\n",
    "\n",
    "# view in in Jupyter:\n",
    "from IPython.display import Image\n",
    "Image(filename='mystack.png')"
   ]
  },
  {
   "cell_type": "markdown",
   "metadata": {},
   "source": [
    "As with Histo1Ds, you can change any Stack attribute by adding the property and desired value as a keyword argument to the constructor or the ```Print``` method.\n",
    "\n",
    "If you don't know what is meant by properties, you'd probably didn't do the Histo1D tutorial. Here's the short answer: Any attribute of a class for which there is a setter method is a property. For Stack objects you can also change the properties of the *'sum-of-stacked-histograms'*-histogram (by default called 'Total SM' in the legend above) by adding the prefix ```stacksum``` in front of the Histo1D property. For example:"
   ]
  },
  {
   "cell_type": "code",
   "execution_count": null,
   "metadata": {},
   "outputs": [],
   "source": [
    "s.Print(\"mystack.png\", ymin=100, xtitle=\"p_{T}(#mu)\", xunits=\"GeV\", stacksumlinecolor=ROOT.kRed)\n",
    "\n",
    "Image(filename='mystack.png')"
   ]
  },
  {
   "cell_type": "markdown",
   "metadata": {},
   "source": [
    "As with any Histo1D object you can also change the legend and errorband properties with the respective prefixes, e.g. for the total-stack-histogram this would then add up to ```stacksumerrorbandfillstyle``` in order to change the fill style of the total-stack's errorband.\n",
    "\n",
    "Often one would like to view the data vs. MC ratio, background purity or signal significance in the same final plot. You can add one or more of them as additional pads below the main Stack by setting the flags ```ratio```, ```contribution```and/or ```sensitivity``` to **True**, respectively:"
   ]
  },
  {
   "cell_type": "code",
   "execution_count": null,
   "metadata": {},
   "outputs": [],
   "source": [
    "s.Print(\n",
    "    \"mystack.png\",\n",
    "    ymin=100,\n",
    "    xtitle=\"p_{T}(#mu)\",\n",
    "    xunits=\"GeV\",\n",
    "    ratio=True,\n",
    "    contribution=True,\n",
    "    sensitivity=True)\n",
    "\n",
    "Image(filename='mystack.png')"
   ]
  },
  {
   "cell_type": "markdown",
   "metadata": {},
   "source": [
    "You can print the yields to ```stdout``` and also as a ```.csv```, ```.tex``` or ```.pdf``` file:"
   ]
  },
  {
   "cell_type": "code",
   "execution_count": null,
   "metadata": {},
   "outputs": [],
   "source": [
    "s.PrintYieldTable(\"table.pdf\", precision=1)\n",
    "\n",
    "from IPython.display import IFrame, display\n",
    "display(IFrame(\"table.pdf\", width=500, height=350))  # you might need to use Firefox for this..."
   ]
  },
  {
   "cell_type": "markdown",
   "metadata": {},
   "source": [
    "So much for the basics. You're good to go now. Cheers!"
   ]
  }
 ],
 "metadata": {
  "anaconda-cloud": {},
  "kernelspec": {
   "display_name": "Python 2",
   "language": "python",
   "name": "python2"
  },
  "language_info": {
   "codemirror_mode": {
    "name": "ipython",
    "version": 2
   },
   "file_extension": ".py",
   "mimetype": "text/x-python",
   "name": "python",
   "nbconvert_exporter": "python",
   "pygments_lexer": "ipython2",
   "version": "2.7.10"
  },
  "nav_menu": {},
  "toc": {
   "navigate_menu": true,
   "number_sections": false,
   "sideBar": true,
   "threshold": 6,
   "toc_cell": false,
   "toc_section_display": "block",
   "toc_window_display": false
  }
 },
 "nbformat": 4,
 "nbformat_minor": 2
}
